{
 "cells": [
  {
   "cell_type": "markdown",
   "metadata": {},
   "source": [
    "## Node-RED\n",
    "\n",
    "Een paar oefeningen in Node-RED"
   ]
  },
  {
   "cell_type": "markdown",
   "metadata": {},
   "source": [
    "## Inleiding\n",
    "\n",
    "Met Node-RED kun je een reeks *flows* aanmaken. Een flow bestaat uit een aantal knopen met daartussen verbindingen. De \"flow\" gaat daarbij van links naar rechts. Je kunt op een enkele sheet meerdere flows aanmaken. Je kunt deze flows ook verdelen over meerdere sheets.\n",
    "\n",
    "Je maakt een flow aan door een knoop vanuit het palet links naar het werkveld (sheet) te kopiëren. Vervolgens kun je door op deze knoop te klikken, deze knoop instellen (bijvoorbeeld: het pad en het soort request voor een http-knoop). In het rechterdeel zie je een uitleg van de geselecteerde knoop. Als je alle nodige knopen in het werkveld geplaatst hebt, kun je deze verbinden tot de bedoelde flow. Als de flow compleet is, moet je deze activeren (\"Deploy\", rechts boven).\n",
    "\n",
    "Er zijn verschillende soorten knopen (nodes):\n",
    "\n",
    "* input-nodes (alleen aansluiting aan rechterkant)\n",
    "    * bijvoorbeeld: gekoppeld aan een inkomend http `GET` verzoek (http)\n",
    "    * of, gekoppeld aan een inkomend mqtt bericht (mqtt)\n",
    "* verwerkings-nodes (aansluitingen links en rechts)\n",
    "* output-nodes (aansluitingen links)"
   ]
  },
  {
   "cell_type": "markdown",
   "metadata": {},
   "source": [
    "### Een eerste test\n",
    "\n",
    "* maak een debug-node (output-node, groen)\n",
    "* verbind deze met een inject-node (voor een timestamp)\n",
    "* \"Deploy\"\n",
    "* klik op de inject-node, en zie de uitvoer bij de debug-tab"
   ]
  },
  {
   "cell_type": "markdown",
   "metadata": {},
   "source": [
    "### Een simpele webserver\n",
    "\n",
    "* maak een http-input node; geeft deze als pad bijvoorbeeld \"/test\"\n",
    "* verbind deze met een function-node\n",
    "    * in de function node ken je de inhoud van de webpagina toe aan `msg.payload`\n",
    "    * variatie: gebruik een globale variabele, om te tellen welk verzoek dit is\n",
    "* verbind deze met een http-output node\n",
    "* \"Deploy\"\n",
    "* bezoek de webpagina: het adres van de Node-RED server, met pad \"/test\""
   ]
  },
  {
   "cell_type": "markdown",
   "metadata": {},
   "source": [
    "### Van MQTT naar websocket\n",
    "\n",
    "* maak een MQTT input node (\"subscribe\")\n",
    "    * geef hierin het adres van de MQTT broker aan\n",
    "    * en het subject van de subscribe\n",
    "* verbind deze met een websocket output node\n",
    "    * deze kun je gebruiken vanuit een webpagina vanuit dezelfde server\n",
    "    * de naam van de websocket:\n"
   ]
  },
  {
   "cell_type": "markdown",
   "metadata": {},
   "source": [
    "### Chat server (websockets)\n",
    "\n",
    "* http://www.ibm.com/developerworks/cloud/library/cl-rtchat-app/\n",
    "* http://www.slideshare.net/BorisAdryan/node-redcamjampibirthdayfeb2015"
   ]
  },
  {
   "cell_type": "markdown",
   "metadata": {},
   "source": [
    "### Websockets\n",
    "\n",
    "* https://developer.mozilla.org/en-US/docs/WebSockets/Writing_WebSocket_client_applications\n"
   ]
  },
  {
   "cell_type": "code",
   "execution_count": null,
   "metadata": {
    "collapsed": true
   },
   "outputs": [],
   "source": []
  }
 ],
 "metadata": {
  "kernelspec": {
   "display_name": "Python 3",
   "language": "python",
   "name": "python3"
  },
  "language_info": {
   "codemirror_mode": {
    "name": "ipython",
    "version": 3
   },
   "file_extension": ".py",
   "mimetype": "text/x-python",
   "name": "python",
   "nbconvert_exporter": "python",
   "pygments_lexer": "ipython3",
   "version": "3.4.3"
  }
 },
 "nbformat": 4,
 "nbformat_minor": 0
}
