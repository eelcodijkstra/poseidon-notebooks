{
 "cells": [
  {
   "cell_type": "markdown",
   "metadata": {},
   "source": [
    "# Periodiek meten en sturen\n",
    "\n",
    "In een IoT-toepassing moet je vaak met een zekere regelmaat meten en sturen. Je hoeft niet alles continu te meten, omdat de wereld waaraan je meet (de fysische processen) een zekere traagheid hebben.\n",
    "\n",
    "Een handig benadering is om voor elke sensor en actuator *periodiek* te werken. Je herhaalt steeds dezelfde cyclus. Bijvoorbeeld:\n",
    "\n",
    "* voor het aansturen van een lamp in een kas gebruik je een 24-uurs periode. Deze bestaat uit een actieve periode, waarin de lamp *aan* is, en een passieve periode, waarin de lamp uit is.\n",
    "* voor het aansturen van de watertoevoer gebruik je een periode van 10 minuten. Elke 10 minuten meet je de vochtigheid van de aarde van de plant (moisture); als deze te laag is, geef je gedurende de actieve periode water. In de passieve periode geef je geen water.\n",
    "\n",
    "Je kunt dit weergeven in de volgende figuur:"
   ]
  },
  {
   "cell_type": "code",
   "execution_count": 1,
   "metadata": {
    "collapsed": false,
    "scrolled": true
   },
   "outputs": [
    {
     "data": {
      "image/png": "[encoded data removed]",
      "text/plain": [
       "<IPython.core.display.Image object>"
      ]
     },
     "execution_count": 1,
     "metadata": {},
     "output_type": "execute_result"
    }
   ],
   "source": [
    "from IPython.display import Image\n",
    "Image(filename='notebook-figuren/periode-fig.png')"
   ]
  },
  {
   "cell_type": "markdown",
   "metadata": {},
   "source": [
    "## Een voorbeeld: lamp\n",
    "\n",
    "Om dit periodieke gedrag te beschrijven in een Python-programma, gebruiken we *timers*: variabelen die het moment aangeven van een bepaalde geplande event. Een timer vergelijken we met de actuele tijd (`now`). Als de timer verstreken is (`now >= timer`) voeren we de actie voor die event uit.\n",
    "\n",
    "We gebruiken de volgende timers voor het periodieke gedrag van `x`:\n",
    "\n",
    "* `xStart`: begin van de volgende actieve periode van `x`\n",
    "* `xStop`: eind van de huidige actieve periode van `x`\n",
    "\n",
    "We gebruiken de volgende constantes:\n",
    "\n",
    "* `xPeriod`: periode van `x`\n",
    "* `xActive`: actief deel van deze periode\n",
    "\n",
    "Voor de acties aan het begin en aan het eind van de actieve periode gebruiken we:\n",
    "\n",
    "* `xOn()`\n",
    "* `xOff()`\n",
    "\n",
    "We kijgen nu de volgende code:\n",
    "\n",
    "```Python\n",
    "xStart = ... initial value: first start\n",
    "xStop = infinity\n",
    "xOff()\n",
    "\n",
    "while True:\n",
    "\n",
    "    if now >= xStart:\n",
    "        xOn()\n",
    "        xStart = xStart + xPeriod\n",
    "        xStop = now + xActive\n",
    "    \n",
    "    if now >= xStop:\n",
    "        xOff()\n",
    "        xStop = infinity\n",
    "        \n",
    "    sleep(1)\n",
    "    now += 1\n",
    "\n",
    "```\n",
    "\n",
    "Deze acties voor het starten en voor het stoppen zijn onafhankelijk van elkaar, en onafhankelijk van andere acties in de loop. Dit betekent dat we eenvoudig nieuwe sensoren of actuatoren kunnen toevoegen, of bestaande kunnen verwijderen.\n",
    "\n",
    "De initialisatie hierboven gaat ervan uit dat we in een passieve periode beginnen. Later zullen we een voorbeeld zien waarbij we afhankelijk van de klok actief of niet-actief beginnen.\n"
   ]
  },
  {
   "cell_type": "markdown",
   "metadata": {},
   "source": [
    "### Voorbeeld: lamp\n",
    "\n",
    "We geven hieronder het voorbeeld van de aansturing van een lamp (LED) voor het belichten van een plantje. We volgen de zelfde periode als het daglicht in de zomer: 16,5 uur, van 5:30 uur tot 22:00 uur. De periode `ledPeriod` is 24 uur (`24 * 60 * 60` seconden). De duur van het actieve deel is 16,u uur: `ledActive = (16 * 60 + 30) * 60`. \n",
    "\n",
    "Voor het initialiseren van `now` gebruiken we de actuele tijd: in Python krijgen we die met de functie `time.localtime`. Dit is een object met de eigenschappen (velden?) `tm_hour` en `tm_min`. "
   ]
  },
  {
   "cell_type": "code",
   "execution_count": 2,
   "metadata": {
    "collapsed": false
   },
   "outputs": [
    {
     "data": {
      "text/plain": [
       "(11, 15, 32)"
      ]
     },
     "execution_count": 2,
     "metadata": {},
     "output_type": "execute_result"
    }
   ],
   "source": [
    "import time\n",
    "tm = time.localtime()\n",
    "tm.tm_hour, tm.tm_min, tm.tm_sec"
   ]
  },
  {
   "cell_type": "markdown",
   "metadata": {},
   "source": [
    "We gebruiken deze waarde om de start van de eerste periode te bepalen (eigenlijk de waarde van `now`):"
   ]
  },
  {
   "cell_type": "code",
   "execution_count": 3,
   "metadata": {
    "collapsed": false
   },
   "outputs": [
    {
     "data": {
      "text/plain": [
       "40532"
      ]
     },
     "execution_count": 3,
     "metadata": {},
     "output_type": "execute_result"
    }
   ],
   "source": [
    "now = (tm.tm_hour * 60 + tm.tm_min) * 60 + tm.tm_sec\n",
    "now"
   ]
  },
  {
   "cell_type": "code",
   "execution_count": 4,
   "metadata": {
    "collapsed": false
   },
   "outputs": [
    {
     "data": {
      "text/plain": [
       "3456000000"
      ]
     },
     "execution_count": 4,
     "metadata": {},
     "output_type": "execute_result"
    }
   ],
   "source": [
    "infinity = 100 * 400 * 24 * 60 * 60 ## more than 100 year in seconds\n",
    "infinity"
   ]
  },
  {
   "cell_type": "code",
   "execution_count": 5,
   "metadata": {
    "collapsed": false
   },
   "outputs": [],
   "source": [
    "def debugLog(log):\n",
    "    tm = time.localtime()\n",
    "    tmStr = (str(tm.tm_year) + \"-\" + str(tm.tm_mon) + \"-\" + str(tm.tm_mday) + \":\" + str(tm.tm_hour) + \":\" +\n",
    "             str(tm.tm_min) + \":\" + str(tm.tm_sec))\n",
    "    print(\"Log at \" + tmStr + \" \" + log)    "
   ]
  },
  {
   "cell_type": "code",
   "execution_count": 6,
   "metadata": {
    "collapsed": true
   },
   "outputs": [],
   "source": [
    "def ledOn():\n",
    "    # grovepi.digitalWrite(lampPin, 1)\n",
    "    debugLog(\"led ON\")\n",
    "\n",
    "def ledOff():\n",
    "    # grovepi.digitalWrite(lampPin, 0)\n",
    "    debugLog(\"led OFF\")\n"
   ]
  },
  {
   "cell_type": "code",
   "execution_count": 7,
   "metadata": {
    "collapsed": false
   },
   "outputs": [
    {
     "name": "stdout",
     "output_type": "stream",
     "text": [
      "Log at 2015-6-10:11:15:41 led ON\n"
     ]
    }
   ],
   "source": [
    "ledPeriod = (24 * 60) * 60      ## 24 hours\n",
    "ledActive = (16 * 60 + 30) * 60 ## 16,5 hours\n",
    "\n",
    "ledStart = (5 * 60 + 30) * 60     ## 5:30 hour\n",
    "ledStop = ledStart + ledActive  ## 22:00 hour\n",
    "\n",
    "if now <= ledStart:\n",
    "    ledOff()\n",
    "elif ledStart <= now and now <= ledStop:\n",
    "    ledOn()\n",
    "    ledStart = ledStart + ledPeriod\n",
    "else:\n",
    "    ledOff()\n",
    "    ledStart = ledStart + ledPeriod\n",
    "    ledStop = infinity\n",
    "\n",
    "while False: ## should be True...\n",
    "    \n",
    "    if now >= ledStart:\n",
    "        ledOn()\n",
    "        ledStart = ledStart + ledPeriod\n",
    "        ledStop = now + ledActive\n",
    "        \n",
    "    if now >= ledStop:\n",
    "        ledOff()\n",
    "        ledStop = infinity\n",
    "    \n",
    "    # time.sleep(1)\n",
    "    now += 1\n",
    "    debugLog(\"next\")\n",
    "    "
   ]
  },
  {
   "cell_type": "markdown",
   "metadata": {},
   "source": [
    "### Voorbeeld: watervoorziening\n",
    "\n",
    "Voor de watervoorziening hanteren we de volgende regels:\n",
    "\n",
    "* elke 15 minuten (`periodWater = 15 * 60`) controleren we de vochtigheid van de grond (`moisture`)\n",
    "* als `moisture < 550` dan geven we gedurende 1 seconde water (`activeWater = 1`)\n",
    "    * 1 seconde water geven komt ongeveen overeen met 5-6 ml water. Als we elke 15 minuten 6 ml water geven, dan is dit 24 ml per uur, en 24 * 24 = 576 ml per dag, ofwel ruim een halve liter. Dat moet ruim voldoende zijn."
   ]
  },
  {
   "cell_type": "code",
   "execution_count": 8,
   "metadata": {
    "collapsed": false
   },
   "outputs": [],
   "source": [
    "def waterOn():\n",
    "    moisture = 700 # read Sensor\n",
    "    if moisture < 550:\n",
    "        ## grovepi.digitalWrite(waterPin, 1)\n",
    "        debugLog(\"water ON\")\n",
    "        return\n",
    "    else:\n",
    "        debugLog(\"no water needed\")\n",
    "        return\n",
    "\n",
    "def waterOff():\n",
    "    ## grovepi.digitalWrite(waterPin, 0)\n",
    "    debugLog(\"water OFF\")"
   ]
  },
  {
   "cell_type": "code",
   "execution_count": 9,
   "metadata": {
    "collapsed": false
   },
   "outputs": [],
   "source": [
    "waterPeriod = 15 * 60 ## 15 minutes\n",
    "waterActive = 1       ## 1 second\n",
    "\n",
    "waterStart = now + 5 * 60  ## first check after 5 minutes\n",
    "waterStop = infinity\n",
    "\n",
    "while now < 5000 : ## should be True...\n",
    "    \n",
    "    if now >= waterStart:\n",
    "        waterOn()\n",
    "        waterStart = waterStart + waterPeriod\n",
    "        waterStop = now + waterActive\n",
    "        \n",
    "    if now >= stopWater:\n",
    "        wtaerOff()\n",
    "        waterStop = infinity\n",
    "    \n",
    "    ## time.sleep(1)\n",
    "    now += 1"
   ]
  },
  {
   "cell_type": "markdown",
   "metadata": {},
   "source": [
    "## Opmerkingen\n",
    "\n",
    "* in de uiteindelijke code combineren we deze twee loops, voor de lamp en voor het water; de conditionele acties zijn helemaal onafhankelijk van elkaar, en van andere acties die we in de loop uitvoeren.\n",
    "* je weet steeds wat de eerstvolgende event is: je kunt een `sleep` doen tot dat moment. In een IoT node die zuinig met energie moet omspringen, kan dat veel schelen. (In dit geval is de energie voor de lamp veel groter dan die voor de Raspberry Pi.)\n",
    "* we moeten met een bepaalde periode de sensoren uitlezen, om deze door de sturen naar de MQTT broker. Hiervoor kunnen we hetzelfde stramien volgen.\n",
    "* in de functies waarin we de lamp of de klep aan of uitzetten, kunnen we ook deze informatie naar de MQTT broker sturen. (Eventueel gebruiken we daarvoor een ander onderwerp, en/of een andere broker.)"
   ]
  },
  {
   "cell_type": "code",
   "execution_count": 10,
   "metadata": {
    "collapsed": false
   },
   "outputs": [
    {
     "data": {
      "text/plain": [
       "43200"
      ]
     },
     "execution_count": 10,
     "metadata": {},
     "output_type": "execute_result"
    }
   ],
   "source": [
    "12 * 60 * 60"
   ]
  },
  {
   "cell_type": "code",
   "execution_count": 11,
   "metadata": {
    "collapsed": false
   },
   "outputs": [
    {
     "data": {
      "text/plain": [
       "106200"
      ]
     },
     "execution_count": 11,
     "metadata": {},
     "output_type": "execute_result"
    }
   ],
   "source": [
    "ledStart"
   ]
  },
  {
   "cell_type": "code",
   "execution_count": 12,
   "metadata": {
    "collapsed": false
   },
   "outputs": [
    {
     "data": {
      "text/plain": [
       "79200"
      ]
     },
     "execution_count": 12,
     "metadata": {},
     "output_type": "execute_result"
    }
   ],
   "source": [
    "ledStop"
   ]
  },
  {
   "cell_type": "code",
   "execution_count": 13,
   "metadata": {
    "collapsed": false
   },
   "outputs": [
    {
     "data": {
      "text/plain": [
       "40532"
      ]
     },
     "execution_count": 13,
     "metadata": {},
     "output_type": "execute_result"
    }
   ],
   "source": [
    "now"
   ]
  },
  {
   "cell_type": "code",
   "execution_count": 14,
   "metadata": {
    "collapsed": false
   },
   "outputs": [
    {
     "data": {
      "text/plain": [
       "1059.8333333333333"
      ]
     },
     "execution_count": 14,
     "metadata": {},
     "output_type": "execute_result"
    }
   ],
   "source": [
    "63590 / 60"
   ]
  },
  {
   "cell_type": "code",
   "execution_count": 15,
   "metadata": {
    "collapsed": false
   },
   "outputs": [
    {
     "data": {
      "text/plain": [
       "17.666666666666668"
      ]
     },
     "execution_count": 15,
     "metadata": {},
     "output_type": "execute_result"
    }
   ],
   "source": [
    "1060 / 60"
   ]
  },
  {
   "cell_type": "code",
   "execution_count": 16,
   "metadata": {
    "collapsed": false
   },
   "outputs": [
    {
     "data": {
      "text/plain": [
       "1165"
      ]
     },
     "execution_count": 16,
     "metadata": {},
     "output_type": "execute_result"
    }
   ],
   "source": [
    "69948 // 60"
   ]
  },
  {
   "cell_type": "code",
   "execution_count": 17,
   "metadata": {
    "collapsed": false
   },
   "outputs": [
    {
     "data": {
      "text/plain": [
       "29"
      ]
     },
     "execution_count": 17,
     "metadata": {},
     "output_type": "execute_result"
    }
   ],
   "source": [
    "(106200 // 60) // 60"
   ]
  },
  {
   "cell_type": "code",
   "execution_count": 30,
   "metadata": {
    "collapsed": false
   },
   "outputs": [
    {
     "data": {
      "text/plain": [
       "30"
      ]
     },
     "execution_count": 30,
     "metadata": {},
     "output_type": "execute_result"
    }
   ],
   "source": [
    "(106200 // 60) % 60"
   ]
  },
  {
   "cell_type": "code",
   "execution_count": null,
   "metadata": {
    "collapsed": true
   },
   "outputs": [],
   "source": []
  }
 ],
 "metadata": {
  "kernelspec": {
   "display_name": "Python 3",
   "language": "python",
   "name": "python3"
  },
  "language_info": {
   "codemirror_mode": {
    "name": "ipython",
    "version": 3
   },
   "file_extension": ".py",
   "mimetype": "text/x-python",
   "name": "python",
   "nbconvert_exporter": "python",
   "pygments_lexer": "ipython3",
   "version": "3.4.3"
  }
 },
 "nbformat": 4,
 "nbformat_minor": 0
}
